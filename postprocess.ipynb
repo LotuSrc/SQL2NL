{
 "cells": [
  {
   "cell_type": "code",
   "execution_count": null,
   "metadata": {},
   "outputs": [],
   "source": [
    "import json\n",
    "import numpy as np\n",
    "def process_txt(path1, path2, path3):\n",
    "    questions = []\n",
    "    with open(path1, 'r', encoding='utf-8') as fr:\n",
    "        for i, line in enumerate(fr):\n",
    "            if line.startswith('graph:'):\n",
    "                graph = json.loads(line.replace('graph:', '').strip())\n",
    "            if line.startswith('Predicted:'):\n",
    "                question = line.replace('Predicted:', '').strip()\n",
    "                    \n",
    "                for j in range(4):\n",
    "                    if 'WHERECOL{} WHEREVALUE{}'.format(j, j) in question:\n",
    "                        if np.random.rand(1) > 0.5:\n",
    "                            question.replace('WHERCOL{} WHEREVALUE{}'.format(j, j), 'WHEREVALUE{}'.format(j))\n",
    "                for k, v in graph['map'].items():\n",
    "                    if 'COL' in k:\n",
    "                        question = question.replace(k, v)\n",
    "\n",
    "                for k, v in graph['map'].items():\n",
    "                    if 'VALUE' in k:\n",
    "                        question = question.replace(k, v)\n",
    "                questions.append(question)\n",
    "    with open(path2, 'r', encoding='utf-8') as fr:\n",
    "        with open(path3, 'w', encoding='utf-8') as fw:\n",
    "            for i, line in enumerate(fr):\n",
    "                js = json.loads(line)\n",
    "                js['question'] = questions[i]\n",
    "                if 'WHERECOL' in js['question'] or 'WHEREVALUE' in js['question'] or 'SELECTCOL' in js['question']:\n",
    "                    continue\n",
    "                fw.write(json.dumps(js) + '\\n')"
   ]
  },
  {
   "cell_type": "code",
   "execution_count": null,
   "metadata": {},
   "outputs": [],
   "source": [
    "process_txt('saved_model/prediction.txt', 'train_augment.jsonl', 'train_augment_processed.jsonl')"
   ]
  }
 ],
 "metadata": {
  "kernelspec": {
   "display_name": "Python 3",
   "language": "python",
   "name": "python3"
  },
  "language_info": {
   "codemirror_mode": {
    "name": "ipython",
    "version": 3
   },
   "file_extension": ".py",
   "mimetype": "text/x-python",
   "name": "python",
   "nbconvert_exporter": "python",
   "pygments_lexer": "ipython3",
   "version": "3.6.8"
  }
 },
 "nbformat": 4,
 "nbformat_minor": 4
}
